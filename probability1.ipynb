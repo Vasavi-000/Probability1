{
 "cells": [
  {
   "cell_type": "code",
   "execution_count": null,
   "id": "5247f150",
   "metadata": {},
   "outputs": [],
   "source": []
  },
  {
   "cell_type": "code",
   "execution_count": 9,
   "id": "a21a912f",
   "metadata": {},
   "outputs": [
    {
     "name": "stdout",
     "output_type": "stream",
     "text": [
      "Probability of getting heads 0.4982\n",
      "Probability of getting tails 0.5018\n"
     ]
    }
   ],
   "source": [
    "#1a.Tossing a coin 10000 times\n",
    "import random\n",
    "def coin_toss(trails=10000):\n",
    "    head=0\n",
    "    tail=0\n",
    "    for i in range(trails):\n",
    "        toss=random.choice(['H','T'])\n",
    "        if toss=='H':\n",
    "            head+=1\n",
    "        else:\n",
    "            tail+=1\n",
    "    p_head = head/trails\n",
    "    p_tails = tail/trails\n",
    "    print(f\"Probability of getting heads {p_head}\")\n",
    "    print(f\"Probability of getting tails {p_tails}\")\n",
    "coin_toss()"
   ]
  },
  {
   "cell_type": "code",
   "execution_count": 3,
   "id": "15dba147",
   "metadata": {},
   "outputs": [
    {
     "name": "stdout",
     "output_type": "stream",
     "text": [
      "Experimental probability :0.1681\n"
     ]
    }
   ],
   "source": [
    "#1.b Rolling two dice\n",
    "def dice_roll(trails = 10000):\n",
    "    sum_seven = 0\n",
    "    for i in range(trails):\n",
    "        die1 = random.randint(1,6)\n",
    "        die2 = random.randint(1,6)\n",
    "        if die1+die2 == 7:\n",
    "            sum_seven += 1\n",
    "    probability = sum_seven / trails\n",
    "    print(f\"Experimental probability :{probability:.4f}\")\n",
    "dice_roll()"
   ]
  },
  {
   "cell_type": "code",
   "execution_count": 3,
   "id": "e73495df",
   "metadata": {},
   "outputs": [
    {
     "name": "stdout",
     "output_type": "stream",
     "text": [
      "Estimated probability : 0.8371\n"
     ]
    }
   ],
   "source": [
    "#2\n",
    "import random\n",
    "def prob_six(trails=10000):\n",
    "    success = 0\n",
    "    for _ in range(trails):\n",
    "        has_six = False\n",
    "        for _ in range(10):\n",
    "            roll = random.randint(1,6)\n",
    "            if roll == 6:\n",
    "                has_six=True\n",
    "                break\n",
    "        if has_six:\n",
    "            success+=1\n",
    "    probability = success / trails\n",
    "    return probability\n",
    "print(\"Estimated probability :\" ,prob_six())"
   ]
  },
  {
   "cell_type": "code",
   "execution_count": 4,
   "id": "7cd136a6",
   "metadata": {},
   "outputs": [],
   "source": []
  },
  {
   "cell_type": "code",
   "execution_count": 7,
   "id": "86683b24",
   "metadata": {},
   "outputs": [
    {
     "name": "stdout",
     "output_type": "stream",
     "text": [
      "(a) P(Red | Previous Blue) ≈ 0.2457\n",
      "(b) Bayes Theorem Value   ≈ 0.2457\n",
      "Difference               ≈ 0.000000\n"
     ]
    }
   ],
   "source": [
    "#3\n",
    "import random\n",
    "# Parameters\n",
    "balls = ['R']*5 + ['G']*7 + ['B']*8\n",
    "trials = 1000\n",
    "\n",
    "# Simulation storage\n",
    "sequence = []\n",
    "\n",
    "# Step 1: simulate draws\n",
    "for _ in range(trials):\n",
    "    sequence.append(random.choice(balls))\n",
    "\n",
    "# Step 2: count needed events\n",
    "prev_blue_count = 0\n",
    "prev_blue_and_red_count = 0\n",
    "red_count = 0\n",
    "blue_count = 0\n",
    "red_then_blue_count = 0\n",
    "\n",
    "for i in range(1, len(sequence)):\n",
    "    prev, curr = sequence[i-1], sequence[i]\n",
    "    \n",
    "    # For (a) conditional probability\n",
    "    if prev == 'B':\n",
    "        prev_blue_count += 1\n",
    "        if curr == 'R':\n",
    "            prev_blue_and_red_count += 1\n",
    "    \n",
    "    # For Bayes theorem\n",
    "    if curr == 'R':\n",
    "        red_count += 1\n",
    "        if prev == 'B':\n",
    "            red_then_blue_count += 1\n",
    "    if curr == 'B':\n",
    "        blue_count += 1\n",
    "\n",
    "# (a) Conditional probability from data\n",
    "if prev_blue_count > 0:\n",
    "    prob_red_given_blue = prev_blue_and_red_count / prev_blue_count\n",
    "else:\n",
    "    prob_red_given_blue = 0\n",
    "\n",
    "# (b) Bayes verification\n",
    "# P(R), P(B), P(B|R), then Bayes\n",
    "P_R = red_count / (trials-1)\n",
    "P_B = blue_count / (trials-1)\n",
    "P_B_given_R = red_then_blue_count / red_count if red_count > 0 else 0\n",
    "bayes_value = (P_B_given_R * P_R) / P_B if P_B > 0 else 0\n",
    "\n",
    "print(f\"(a) P(Red | Previous Blue) ≈ {prob_red_given_blue:.4f}\")\n",
    "print(f\"(b) Bayes Theorem Value   ≈ {bayes_value:.4f}\")\n",
    "print(f\"Difference               ≈ {abs(prob_red_given_blue - bayes_value):.6f}\")"
   ]
  },
  {
   "cell_type": "code",
   "execution_count": null,
   "id": "69d439f9",
   "metadata": {},
   "outputs": [],
   "source": []
  },
  {
   "cell_type": "code",
   "execution_count": 4,
   "id": "eb524015",
   "metadata": {},
   "outputs": [
    {
     "name": "stdout",
     "output_type": "stream",
     "text": [
      "Empirical Mean :  2.166\n",
      "Empirical Variance :  0.618444\n",
      "Empirical standard deviation :  0.7864121057053992\n"
     ]
    }
   ],
   "source": [
    "#4\n",
    "import numpy as np\n",
    "\n",
    "#values  and probabilities\n",
    "values = [1,2,3]\n",
    "probabilities = [0.25,0.35,0.40]\n",
    "sample_size = 1000\n",
    "\n",
    "#generate samples\n",
    "sample = np.random.choice(values,size = sample_size,p = probabilities)\n",
    "\n",
    "#Empirical calculations\n",
    "emp_mean = np.mean(sample)\n",
    "emp_var = np.var(sample)\n",
    "emp_std = np.std(sample)\n",
    "\n",
    "#Theoretical claculations\n",
    "t_mean = np.dot(values,probabilities)\n",
    "t_var = np.dot(np.square(values),probabilities)-(t_mean)**2\n",
    "t_std = np.sqrt(t_var)\n",
    "\n",
    "print(\"Empirical Mean : \",emp_mean)\n",
    "print(\"Empirical Variance : \",emp_var)\n",
    "print(\"Empirical standard deviation : \",emp_std)\n",
    "\n"
   ]
  },
  {
   "cell_type": "code",
   "execution_count": 13,
   "id": "0257687d",
   "metadata": {},
   "outputs": [
    {
     "data": {
      "image/png": "[encoded data removed]",
      "text/plain": [
       "<Figure size 640x480 with 1 Axes>"
      ]
     },
     "metadata": {},
     "output_type": "display_data"
    }
   ],
   "source": [
    "#5\n",
    "import numpy as np\n",
    "import matplotlib.pyplot as plt\n",
    "\n",
    "#parameters\n",
    "mean = 5\n",
    "lam = 1/mean\n",
    "n_samples = 2000\n",
    "\n",
    "#Generate samples\n",
    "np.random.exponential(scale=mean , size=n_samples)\n",
    "\n",
    "#visualization\n",
    "#Histogram of samples\n",
    "count , bins , patches = plt.hist(n_samples,bins=30 ,density=True,alpha=0.7,color=\"skyblue\",edgecolor=\"black\")\n",
    "\n",
    "#pdf overlay\n",
    "x = np.linspace(0,np.max(n_samples),1000)\n",
    "pdf = lam*np.exp(-lam * x)\n",
    "plt.plot(x,pdf,'r-',lw=2,label=\"Exponential PDF(lambda=0.2)\")\n",
    "\n",
    "#Formatting\n",
    "plt.title(\"Exponential Distributions(mean=5)\")\n",
    "plt.xlabel(\"x\")\n",
    "plt.ylabel(\"Density\")\n",
    "plt.legend()\n",
    "plt.show()"
   ]
  },
  {
   "cell_type": "code",
   "execution_count": 1,
   "id": "5a03d6c4",
   "metadata": {},
   "outputs": [
    {
     "data": {
      "image/png": "[encoded data removed]",
      "text/plain": [
       "<Figure size 1200x500 with 2 Axes>"
      ]
     },
     "metadata": {},
     "output_type": "display_data"
    }
   ],
   "source": [
    "#6\n",
    "import numpy as np\n",
    "import matplotlib.pyplot as plt\n",
    "\n",
    "#generate uniform random numbers\n",
    "uniform_data = np.random.uniform(0,1,10000)\n",
    "\n",
    "#Draw 1000 samples of size n=30\n",
    "n = 30\n",
    "n_samples = 1000\n",
    "sample_means = []\n",
    "\n",
    "for _ in range(n_samples):\n",
    "    sample = np.random.choice(uniform_data , size = n , replace=True)\n",
    "    sample_means.append(np.mean(sample))\n",
    "sample_means = np.array(sample_means)\n",
    "\n",
    "#visualization\n",
    "\n",
    "plt.figure(figsize=(12,5))\n",
    "\n",
    "#Original uniform distributions\n",
    "plt.subplot(1,2,1)\n",
    "plt.hist(uniform_data , bins=30 ,density=True ,color=\"skyblue\")\n",
    "plt.title(\"Uniform Distribution (0,1)\")\n",
    "plt.xlabel(\"Value\")\n",
    "plt.ylabel(\"Density\")\n",
    "\n",
    "#Distribution of sample means\n",
    "plt.subplot(1,2,2)\n",
    "plt.hist(sample_means,bins=30,density=True,color=\"lightcoral\",edgecolor=\"black\")\n",
    "plt.title(\"Distribution of sample means(n=30)\")\n",
    "plt.xlabel(\"Sample Mean\")\n",
    "plt.ylabel(\"Density\")\n",
    "plt.tight_layout()\n",
    "plt.show()\n"
   ]
  },
  {
   "cell_type": "code",
   "execution_count": null,
   "id": "4f6eda68",
   "metadata": {},
   "outputs": [],
   "source": []
  }
 ],
 "metadata": {
  "kernelspec": {
   "display_name": "Python 3 (ipykernel)",
   "language": "python",
   "name": "python3"
  },
  "language_info": {
   "codemirror_mode": {
    "name": "ipython",
    "version": 3
   },
   "file_extension": ".py",
   "mimetype": "text/x-python",
   "name": "python",
   "nbconvert_exporter": "python",
   "pygments_lexer": "ipython3",
   "version": "3.11.6"
  }
 },
 "nbformat": 4,
 "nbformat_minor": 5
}
